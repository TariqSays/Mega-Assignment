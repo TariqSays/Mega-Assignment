{
 "cells": [
  {
   "cell_type": "markdown",
   "metadata": {},
   "source": [
    "# Q1.         value item key"
   ]
  },
  {
   "cell_type": "markdown",
   "metadata": {},
   "source": [
    "# Q2.  false"
   ]
  },
  {
   "cell_type": "markdown",
   "metadata": {},
   "source": [
    "# Q3. false"
   ]
  },
  {
   "cell_type": "markdown",
   "metadata": {},
   "source": [
    "# Q4. none of above"
   ]
  },
  {
   "cell_type": "markdown",
   "metadata": {},
   "source": [
    "# Q5. value of the key, if it exists in the dictionary"
   ]
  },
  {
   "cell_type": "markdown",
   "metadata": {},
   "source": [
    "# Q6. tupple containing the pair of last item of the dictionary "
   ]
  },
  {
   "cell_type": "markdown",
   "metadata": {},
   "source": [
    "# Q7. items()   keys() "
   ]
  },
  {
   "cell_type": "markdown",
   "metadata": {},
   "source": [
    "# Q8. {} curly brackets"
   ]
  },
  {
   "cell_type": "markdown",
   "metadata": {},
   "source": [
    "# Q9. Program"
   ]
  },
  {
   "cell_type": "code",
   "execution_count": 1,
   "metadata": {},
   "outputs": [
    {
     "name": "stdout",
     "output_type": "stream",
     "text": [
      "Enter key to check__Pakistan\n",
      "Enter value to check__pakistan\n",
      "only key is present\n"
     ]
    }
   ],
   "source": [
    "# Q9.\n",
    "dect={\"punjab\":\"lahore\",\"sindh\":\"karachi\",\"kpk\":\"peshawar\",\"baluchistan\":\"quetta\",\"Pakistan\":\"islamabad\"}\n",
    "key=input(\"Enter key to check__\")\n",
    "value=input(\"Enter value to check__\")\n",
    "if key in dect.keys():\n",
    "    if value in dect.values():\n",
    "        print(\"both key and value are present\")\n",
    "    else:\n",
    "        print(\"only key is present\")\n",
    "elif value in dect.values():\n",
    "    print(\"only value is present\")\n",
    "else:\n",
    "    print(\"none is present\")"
   ]
  },
  {
   "cell_type": "markdown",
   "metadata": {},
   "source": [
    "# Q10. Program"
   ]
  },
  {
   "cell_type": "code",
   "execution_count": 3,
   "metadata": {},
   "outputs": [
    {
     "name": "stdout",
     "output_type": "stream",
     "text": [
      "enter string.......i am tariq anddddd i am student of python\n",
      "i 2\n",
      "am 2\n"
     ]
    }
   ],
   "source": [
    "# Q10.\n",
    "stryng=input(\"enter string.......\")\n",
    "lyst=stryng.split()\n",
    "#print(lyst)\n",
    "dect={}\n",
    "n=len(lyst)\n",
    "# print(n)\n",
    "for i in range(n):\n",
    "    c=0\n",
    "    if lyst[i] in dect.keys():\n",
    "        continue\n",
    "    for j in range(n):\n",
    "        if lyst[i]==lyst[j]:\n",
    "            c=c+1\n",
    "    dect.update({lyst[i]:c})\n",
    "for x,y in dect.items():\n",
    "    if y%2==0:\n",
    "        print(x,y) "
   ]
  },
  {
   "cell_type": "markdown",
   "metadata": {},
   "source": [
    "# Q11. "
   ]
  },
  {
   "cell_type": "code",
   "execution_count": null,
   "metadata": {},
   "outputs": [],
   "source": [
    "\"\"\"\n",
    "X = [\"Feb\", Apr, Mar, May, Jun, Jul, Aug, Jan]\n",
    "\n",
    "X[0:3] ---- [\"Feb\",\"Apr\",\"Mar\"]\n",
    "X[2:8] ---- [\"Mar\",\"May\",\"Jun\",\"Jul\",\"Aug\",\"Jan\"]\n",
    "X[4:9] ---- [\"Jun\",\"Jul\",\"Aug\",\"Jan\"]\n",
    "X[1:7:2] ---['Apr',\"May\",\"Jul\"]\n",
    "X[-1:-7] ---[]\n",
    "X[-7:7]     ['Apr', 'Mar', 'May', 'Jun', 'Jul', 'Aug']\n",
    "X[-1:-8:-2] ['Jan', 'Jul', 'May', 'Apr']\n",
    "X[:4]       ['Feb', 'Apr', 'Mar', 'May']\n",
    "\n",
    "\"\"\""
   ]
  },
  {
   "cell_type": "markdown",
   "metadata": {},
   "source": [
    "# Q12.         3) .remove(9)"
   ]
  },
  {
   "cell_type": "markdown",
   "metadata": {},
   "source": [
    "# Q13.        1) *"
   ]
  },
  {
   "cell_type": "markdown",
   "metadata": {},
   "source": [
    "# Q14.   1) .upper()"
   ]
  },
  {
   "cell_type": "markdown",
   "metadata": {},
   "source": [
    "# Q15. <class 'bool'> <class 'str'> <class 'int'> <class 'float'>\n"
   ]
  },
  {
   "cell_type": "markdown",
   "metadata": {},
   "source": [
    "# Q16.  p and R2"
   ]
  },
  {
   "cell_type": "markdown",
   "metadata": {},
   "source": [
    "# Q17.  X(p)"
   ]
  },
  {
   "cell_type": "markdown",
   "metadata": {},
   "source": [
    "# Q18. x%y = 0   x/y = 2.0  x//y = 2  y%x = 2"
   ]
  },
  {
   "cell_type": "markdown",
   "metadata": {},
   "source": [
    "# Q19."
   ]
  },
  {
   "cell_type": "code",
   "execution_count": 2,
   "metadata": {},
   "outputs": [],
   "source": [
    "# Q 19 a)\n",
    "for i in range(2):\n",
    "    for j in range(3):\n",
    "        print(x[i][j])\n",
    "        \n",
    "        \n",
    "# Q 19 b)\n",
    "for j in range(3):\n",
    "    for i in range(2):\n",
    "        print(x[i][j],end='\\t')\n",
    "    print(\"\")\n",
    "    \n",
    "\n",
    "# Q 19 c)\n",
    "for j in range(2):\n",
    "    for i in range(3):\n",
    "        print(x[j][i],end='\\t')\n",
    "        \n",
    "# Q 19 d)\n",
    "for j in range(2):\n",
    "    for i in range(3):\n",
    "        print(x[j][i],end='\\t')\n",
    "    print(\"\")"
   ]
  },
  {
   "cell_type": "markdown",
   "metadata": {},
   "source": [
    "# Q20. 3) j"
   ]
  },
  {
   "cell_type": "markdown",
   "metadata": {},
   "source": [
    "# Q21. b)  The keys of a dictionary can be accessed using values"
   ]
  },
  {
   "cell_type": "markdown",
   "metadata": {},
   "source": [
    "# Q22. a) {0: 1, 1: 1, 2: 1}"
   ]
  },
  {
   "cell_type": "markdown",
   "metadata": {},
   "source": [
    "# Q23. True True False"
   ]
  },
  {
   "cell_type": "markdown",
   "metadata": {},
   "source": [
    "# Q24. 11.333333333333334"
   ]
  },
  {
   "cell_type": "markdown",
   "metadata": {},
   "source": [
    "# Q25. Error all the arugments which are being passed on the function call time are going for opt_values including \"Ali\" as well and nothing is going for name. it will run as\n",
    "def avg (name, *opt_values ):\n",
    "\n",
    "    avg_value = sum (opt_values) / len(opt_values)\n",
    "\n",
    "    print(\"name is: \" + name + \"Marks: \" + str(avg_value))\n",
    "\n",
    "avg (\"Ali\", 5 , 9 , 20, 34, 87, 112)"
   ]
  },
  {
   "cell_type": "markdown",
   "metadata": {},
   "source": [
    "# Q26. this way the function will receive a dictionary of arguments, if we remove one or both asterik it gonna generate error , on removing one asterik it will receive a tuple of arguments which we are not passing , and on removing both asterik it will generate error again for not passing relevent argument. the curren output\n",
    "The winner was Manchester\n",
    "\n",
    "The score was 1-0"
   ]
  },
  {
   "cell_type": "markdown",
   "metadata": {},
   "source": [
    "# Q27. After first argument for parameter winner all remaining will go for  **other_info and nothing for score."
   ]
  },
  {
   "cell_type": "markdown",
   "metadata": {},
   "source": [
    "# Q28. b) 000123"
   ]
  },
  {
   "cell_type": "markdown",
   "metadata": {},
   "source": [
    "# Q29. c) 22.19"
   ]
  },
  {
   "cell_type": "markdown",
   "metadata": {},
   "source": [
    "# Q30. d) ‘1.234560, 1.234560, 01.23’"
   ]
  },
  {
   "cell_type": "markdown",
   "metadata": {},
   "source": [
    "# Q31. loop will never ever run just because of condition"
   ]
  },
  {
   "cell_type": "markdown",
   "metadata": {},
   "source": [
    "# Q32. output:       a a a a a a                                                                                                                               \n",
    "print() end is set for space which will executed for next output"
   ]
  },
  {
   "cell_type": "code",
   "execution_count": 3,
   "metadata": {},
   "outputs": [],
   "source": [
    "#Q 32\n",
    "#to change values"
   ]
  },
  {
   "cell_type": "code",
   "execution_count": 4,
   "metadata": {},
   "outputs": [
    {
     "name": "stdout",
     "output_type": "stream",
     "text": [
      "abcde abcd abc ab a  "
     ]
    }
   ],
   "source": [
    "x = \"abcdef\"\n",
    "i = \"a\"\n",
    "while i in x:\n",
    "    x = x[:-1]\n",
    "    print(x, end = \" \")"
   ]
  },
  {
   "cell_type": "code",
   "execution_count": 5,
   "metadata": {},
   "outputs": [
    {
     "name": "stdout",
     "output_type": "stream",
     "text": [
      "a a a a a a "
     ]
    }
   ],
   "source": [
    "x = \"abcdef\"\n",
    "i = \"a\"\n",
    "while i in x:\n",
    "    print(i, end = \" \")\n",
    "    x = x[:-1]\n",
    "    "
   ]
  },
  {
   "cell_type": "code",
   "execution_count": 6,
   "metadata": {},
   "outputs": [
    {
     "name": "stdout",
     "output_type": "stream",
     "text": [
      "abcdef abcde abcd abc ab a "
     ]
    }
   ],
   "source": [
    "x = \"abcdef\"\n",
    "i = \"a\"\n",
    "while i in x:\n",
    "    print(x, end = \" \")\n",
    "    x = x[:-1]"
   ]
  },
  {
   "cell_type": "markdown",
   "metadata": {},
   "source": [
    "# Q33. "
   ]
  },
  {
   "cell_type": "code",
   "execution_count": 7,
   "metadata": {},
   "outputs": [
    {
     "name": "stdout",
     "output_type": "stream",
     "text": [
      "d\n",
      "c\n",
      "b\n",
      "a\n"
     ]
    }
   ],
   "source": [
    "for i in ''.join(reversed(list('abcd'))):\n",
    "    print(i)"
   ]
  },
  {
   "cell_type": "code",
   "execution_count": 8,
   "metadata": {},
   "outputs": [
    {
     "name": "stdout",
     "output_type": "stream",
     "text": [
      "dd\n",
      "cc\n",
      "bb\n",
      "aa\n"
     ]
    }
   ],
   "source": [
    "for i in ''.join(reversed(list('abcd'))):\n",
    "    print(i*2)"
   ]
  },
  {
   "cell_type": "code",
   "execution_count": 9,
   "metadata": {},
   "outputs": [
    {
     "name": "stdout",
     "output_type": "stream",
     "text": [
      "d\n",
      "\n",
      "\n",
      "c\n",
      "\n",
      "\n",
      "b\n",
      "\n",
      "\n",
      "a\n"
     ]
    }
   ],
   "source": [
    "for i in '\\n'.join(reversed(list('abcd'))):\n",
    "    print(i)"
   ]
  },
  {
   "cell_type": "code",
   "execution_count": 10,
   "metadata": {},
   "outputs": [
    {
     "name": "stdout",
     "output_type": "stream",
     "text": [
      "a\n",
      "b\n",
      "c\n",
      "d\n"
     ]
    }
   ],
   "source": [
    "for i in ''.join((list('abcd'))):\n",
    "    print(i)"
   ]
  },
  {
   "cell_type": "markdown",
   "metadata": {},
   "source": [
    "# Q34."
   ]
  },
  {
   "cell_type": "code",
   "execution_count": 11,
   "metadata": {},
   "outputs": [
    {
     "name": "stdout",
     "output_type": "stream",
     "text": [
      "0\n",
      "1\n",
      "2\n",
      "3\n",
      "4\n"
     ]
    }
   ],
   "source": [
    "for i in range(10):\n",
    "    if i == 5:\n",
    "        break\n",
    "    else:\n",
    "        print(i)\n",
    "else:\n",
    "    print(\"Here\")"
   ]
  },
  {
   "cell_type": "code",
   "execution_count": 12,
   "metadata": {},
   "outputs": [],
   "source": [
    "# Range 10 so, i has to run from 0 to 9 \n",
    "# if i not equal to 5 print (i)\n",
    "# when i equal to 5 loop will break \n",
    "# then else part of for loop will be executed"
   ]
  },
  {
   "cell_type": "markdown",
   "metadata": {},
   "source": [
    "# Q35."
   ]
  },
  {
   "cell_type": "code",
   "execution_count": 16,
   "metadata": {},
   "outputs": [
    {
     "name": "stdout",
     "output_type": "stream",
     "text": [
      "48\n"
     ]
    }
   ],
   "source": [
    "y = 6\n",
    "z = lambda x: x * y\n",
    "print (z(8))\n",
    "# lambda will take arguments and then perform one expression\n",
    "# lambda arguments : expression\n",
    "# expression executed and  result is returned"
   ]
  },
  {
   "cell_type": "markdown",
   "metadata": {},
   "source": [
    "# Q36."
   ]
  },
  {
   "cell_type": "code",
   "execution_count": 19,
   "metadata": {},
   "outputs": [
    {
     "name": "stdout",
     "output_type": "stream",
     "text": [
      "0\n"
     ]
    }
   ],
   "source": [
    "i=0\n",
    "def change(i):\n",
    "    i=i+1\n",
    "    return i\n",
    "change(1)\n",
    "print(i)\n",
    "# i is global variable \n",
    "# if we create the variable with the same name inside the function this variable will be local and can only be used inside the function.\n",
    "#The global variable with the same name will remain as it was, global and with the original value.\n",
    "\n",
    "\n",
    "\n"
   ]
  },
  {
   "cell_type": "markdown",
   "metadata": {},
   "source": [
    "# Q.37 Q.38 Q.39     Missing"
   ]
  },
  {
   "cell_type": "markdown",
   "metadata": {},
   "source": [
    "# Q40."
   ]
  },
  {
   "cell_type": "code",
   "execution_count": 20,
   "metadata": {},
   "outputs": [
    {
     "name": "stdout",
     "output_type": "stream",
     "text": [
      "<class 'tuple'>\n",
      "(2, 3, 4)\n"
     ]
    }
   ],
   "source": [
    "def change(one, *two):\n",
    "    print(type(two))\n",
    "    print(two)\n",
    "change(1,2,3,4)"
   ]
  },
  {
   "cell_type": "markdown",
   "metadata": {},
   "source": [
    "Q.40\n",
    "#  function is defined with single asterix(*) sign for second parameter named two which means it will receive tuple of arguments that's why the data type tuple is shown  "
   ]
  },
  {
   "cell_type": "markdown",
   "metadata": {},
   "source": [
    "# Q41."
   ]
  },
  {
   "cell_type": "code",
   "execution_count": 21,
   "metadata": {},
   "outputs": [
    {
     "name": "stdout",
     "output_type": "stream",
     "text": [
      "<class 'dict'>\n"
     ]
    }
   ],
   "source": [
    "def find(a, **b):\n",
    "    print(type(b))\n",
    "find('letters',A='1',B='2')"
   ]
  },
  {
   "cell_type": "code",
   "execution_count": 22,
   "metadata": {},
   "outputs": [],
   "source": [
    "# if we add two asterix: ** before the parameter name in the function definition\n",
    "# This way the function will receive a dictionary of arguments\n",
    "# something same happen in the above question"
   ]
  },
  {
   "cell_type": "markdown",
   "metadata": {},
   "source": [
    "# Q42."
   ]
  },
  {
   "cell_type": "code",
   "execution_count": 23,
   "metadata": {},
   "outputs": [
    {
     "name": "stdout",
     "output_type": "stream",
     "text": [
      "[0]\n",
      "[0, 1]\n",
      "[0, 1, 2]\n"
     ]
    }
   ],
   "source": [
    "def foo(i, x=[]):\n",
    "    x.append(i)\n",
    "    return x\n",
    "for i in range(3):\n",
    "    print(foo(i))"
   ]
  },
  {
   "cell_type": "code",
   "execution_count": 24,
   "metadata": {},
   "outputs": [],
   "source": [
    "# on first iteration 0 was appended to list x that's why  list with [0] returned\n",
    "# then 1 appended and list [0,1]\n",
    "# then 2 appended and list [0,1,2]"
   ]
  },
  {
   "cell_type": "markdown",
   "metadata": {},
   "source": [
    "# Q43."
   ]
  },
  {
   "cell_type": "code",
   "execution_count": 25,
   "metadata": {},
   "outputs": [
    {
     "data": {
      "text/plain": [
       "15"
      ]
     },
     "execution_count": 25,
     "metadata": {},
     "output_type": "execute_result"
    }
   ],
   "source": [
    "(3*(1+2)**2-(2**2)*3)"
   ]
  },
  {
   "cell_type": "code",
   "execution_count": 26,
   "metadata": {},
   "outputs": [],
   "source": [
    "# First parenthesis\n",
    "# Second exponent\n",
    "# third multiplication \n",
    "# subtraction result is 15"
   ]
  },
  {
   "cell_type": "markdown",
   "metadata": {},
   "source": [
    "# Q44. \n",
    "e) math.fabs(x)\n",
    "c) math.floor(x)\n"
   ]
  },
  {
   "cell_type": "code",
   "execution_count": 29,
   "metadata": {},
   "outputs": [
    {
     "data": {
      "text/plain": [
       "12"
      ]
     },
     "execution_count": 29,
     "metadata": {},
     "output_type": "execute_result"
    }
   ],
   "source": [
    "import math\n",
    "x=12.34\n",
    "math.fabs(x)\n",
    "math.floor(x)\n"
   ]
  },
  {
   "cell_type": "markdown",
   "metadata": {},
   "source": [
    "# Q45.  b) random.randint(5, 11)  c)    random.randrange(5, 12, 1)"
   ]
  },
  {
   "cell_type": "markdown",
   "metadata": {},
   "source": [
    "# Q46."
   ]
  },
  {
   "cell_type": "code",
   "execution_count": 30,
   "metadata": {},
   "outputs": [
    {
     "name": "stdout",
     "output_type": "stream",
     "text": [
      "Enter Marks.44\n",
      "E Grade\n"
     ]
    }
   ],
   "source": [
    "marks=int(input(\"Enter Marks.\"))\n",
    "if marks>=90:\n",
    "    print(\"A Grade\")\n",
    "elif marks>80:\n",
    "    print(\"B Grade\")\n",
    "elif marks>70:\n",
    "    print(\"C Grade\")\n",
    "elif marks>60:\n",
    "    print(\"D Grade\")\n",
    "else:\n",
    "    print(\"E Grade\")"
   ]
  },
  {
   "cell_type": "code",
   "execution_count": null,
   "metadata": {},
   "outputs": [],
   "source": []
  },
  {
   "cell_type": "code",
   "execution_count": null,
   "metadata": {},
   "outputs": [],
   "source": []
  }
 ],
 "metadata": {
  "kernelspec": {
   "display_name": "Python 3",
   "language": "python",
   "name": "python3"
  },
  "language_info": {
   "codemirror_mode": {
    "name": "ipython",
    "version": 3
   },
   "file_extension": ".py",
   "mimetype": "text/x-python",
   "name": "python",
   "nbconvert_exporter": "python",
   "pygments_lexer": "ipython3",
   "version": "3.7.4"
  }
 },
 "nbformat": 4,
 "nbformat_minor": 2
}
